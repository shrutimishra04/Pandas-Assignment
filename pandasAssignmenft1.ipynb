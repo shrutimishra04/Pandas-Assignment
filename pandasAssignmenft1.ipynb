{
 "cells": [
  {
   "cell_type": "code",
   "execution_count": 2,
   "metadata": {},
   "outputs": [
    {
     "data": {
      "text/html": [
       "<div>\n",
       "<style scoped>\n",
       "    .dataframe tbody tr th:only-of-type {\n",
       "        vertical-align: middle;\n",
       "    }\n",
       "\n",
       "    .dataframe tbody tr th {\n",
       "        vertical-align: top;\n",
       "    }\n",
       "\n",
       "    .dataframe thead th {\n",
       "        text-align: right;\n",
       "    }\n",
       "</style>\n",
       "<table border=\"1\" class=\"dataframe\">\n",
       "  <thead>\n",
       "    <tr style=\"text-align: right;\">\n",
       "      <th></th>\n",
       "      <th>Name</th>\n",
       "      <th>Age</th>\n",
       "      <th>Salary</th>\n",
       "      <th>Department</th>\n",
       "      <th>Start_Date</th>\n",
       "      <th>Experience</th>\n",
       "      <th>Rating</th>\n",
       "    </tr>\n",
       "  </thead>\n",
       "  <tbody>\n",
       "    <tr>\n",
       "      <th>0</th>\n",
       "      <td>Alice</td>\n",
       "      <td>25</td>\n",
       "      <td>50000</td>\n",
       "      <td>HR</td>\n",
       "      <td>2020-01-01</td>\n",
       "      <td>5</td>\n",
       "      <td>4.2</td>\n",
       "    </tr>\n",
       "    <tr>\n",
       "      <th>1</th>\n",
       "      <td>Bob</td>\n",
       "      <td>30</td>\n",
       "      <td>60000</td>\n",
       "      <td>IT\"</td>\n",
       "      <td>2019-03-15</td>\n",
       "      <td>10</td>\n",
       "      <td>3.8</td>\n",
       "    </tr>\n",
       "    <tr>\n",
       "      <th>2</th>\n",
       "      <td>Charlie</td>\n",
       "      <td>35</td>\n",
       "      <td>70000</td>\n",
       "      <td>Finance</td>\n",
       "      <td>2021-05-20</td>\n",
       "      <td>3</td>\n",
       "      <td>4.5</td>\n",
       "    </tr>\n",
       "    <tr>\n",
       "      <th>3</th>\n",
       "      <td>David</td>\n",
       "      <td>40</td>\n",
       "      <td>80000</td>\n",
       "      <td>HR</td>\n",
       "      <td>2018-09-10</td>\n",
       "      <td>15</td>\n",
       "      <td>4.0</td>\n",
       "    </tr>\n",
       "    <tr>\n",
       "      <th>4</th>\n",
       "      <td>Eve</td>\n",
       "      <td>45</td>\n",
       "      <td>90000</td>\n",
       "      <td>IT</td>\n",
       "      <td>2022-02-28</td>\n",
       "      <td>2</td>\n",
       "      <td>4.7</td>\n",
       "    </tr>\n",
       "  </tbody>\n",
       "</table>\n",
       "</div>"
      ],
      "text/plain": [
       "      Name  Age  Salary Department Start_Date  Experience  Rating\n",
       "0    Alice   25   50000         HR 2020-01-01           5     4.2\n",
       "1      Bob   30   60000        IT\" 2019-03-15          10     3.8\n",
       "2  Charlie   35   70000    Finance 2021-05-20           3     4.5\n",
       "3    David   40   80000         HR 2018-09-10          15     4.0\n",
       "4      Eve   45   90000         IT 2022-02-28           2     4.7"
      ]
     },
     "execution_count": 2,
     "metadata": {},
     "output_type": "execute_result"
    }
   ],
   "source": [
    "import pandas as pd\n",
    "import numpy as np\n",
    "#Creating a dummy dataset\n",
    "data = {\n",
    "    'Name': ['Alice', 'Bob', 'Charlie', 'David', 'Eve'],\n",
    "    'Age': [25, 30, 35, 40, 45],\n",
    "    'Salary': [50000, 60000, 70000, 80000, 90000],\n",
    "    'Department': ['HR', 'IT\"', 'Finance', 'HR', 'IT'],\n",
    "    'Start_Date': pd.to_datetime(['2020-01-01', '2019-03-15', '2021-05-20', '2018-09-10', '2022-02-28']),\n",
    "    'Experience': [5, 10, 3, 15, 2],\n",
    "    'Rating': [4.2, 3.8, 4.5, 4.0, 4.7]\n",
    "}\n",
    "df= pd.DataFrame(data)\n",
    "df"
   ]
  },
  {
   "cell_type": "code",
   "execution_count": 3,
   "metadata": {},
   "outputs": [
    {
     "name": "stdout",
     "output_type": "stream",
     "text": [
      "      Name  Age  Salary Department Start_Date  Experience  Rating\n",
      "2  Charlie   35   70000    Finance 2021-05-20           3     4.5\n",
      "3    David   40   80000         HR 2018-09-10          15     4.0\n",
      "4      Eve   45   90000         IT 2022-02-28           2     4.7\n"
     ]
    }
   ],
   "source": [
    "#Question 1: employees who are older than 30:\n",
    "\n",
    "subset_df = df[df['Age'] > 30]\n",
    "print(subset_df)"
   ]
  },
  {
   "cell_type": "code",
   "execution_count": 5,
   "metadata": {},
   "outputs": [
    {
     "name": "stdout",
     "output_type": "stream",
     "text": [
      "             Age        Salary           Start_Date  Experience    Rating\n",
      "count   5.000000      5.000000                    5     5.00000  5.000000\n",
      "mean   35.000000  70000.000000  2020-04-14 19:12:00     7.00000  4.240000\n",
      "min    25.000000  50000.000000  2018-09-10 00:00:00     2.00000  3.800000\n",
      "25%    30.000000  60000.000000  2019-03-15 00:00:00     3.00000  4.000000\n",
      "50%    35.000000  70000.000000  2020-01-01 00:00:00     5.00000  4.200000\n",
      "75%    40.000000  80000.000000  2021-05-20 00:00:00    10.00000  4.500000\n",
      "max    45.000000  90000.000000  2022-02-28 00:00:00    15.00000  4.700000\n",
      "std     7.905694  15811.388301                  NaN     5.43139  0.364692\n"
     ]
    }
   ],
   "source": [
    "#Question 3: Calculating Summary Statistics\n",
    "#Let's calculate summary statistics for the numerical columns in the DataFrame\n",
    "\n",
    "summary_stats = df.describe()\n",
    "print(summary_stats)\n"
   ]
  },
  {
   "cell_type": "code",
   "execution_count": 6,
   "metadata": {},
   "outputs": [
    {
     "name": "stdout",
     "output_type": "stream",
     "text": [
      "Department  Finance       HR       IT      IT\"\n",
      "Name                                          \n",
      "Alice           NaN  50000.0      NaN      NaN\n",
      "Bob             NaN      NaN      NaN  60000.0\n",
      "Charlie     70000.0      NaN      NaN      NaN\n",
      "David           NaN  80000.0      NaN      NaN\n",
      "Eve             NaN      NaN  90000.0      NaN\n"
     ]
    }
   ],
   "source": [
    "#Question 4: Reshaping the Layout of Tables\n",
    "#let's reshape the DataFrame to have \"Name\" as the index and \"Department\" as columns, witl\"Salary\" as values:\n",
    "\n",
    "reshape_df = df.pivot_table(index='Name', columns='Department', values='Salary', aggfunc='first')\n",
    "print(reshape_df)"
   ]
  },
  {
   "cell_type": "code",
   "execution_count": 7,
   "metadata": {},
   "outputs": [
    {
     "name": "stdout",
     "output_type": "stream",
     "text": [
      "      Name  Age  Salary Department Start_Date  Experience  Rating Age_Group  \\\n",
      "0    Alice   25   50000         HR 2020-01-01           5     4.2       <30   \n",
      "1      Bob   30   60000        IT\" 2019-03-15          10     3.8     30-39   \n",
      "2  Charlie   35   70000    Finance 2021-05-20           3     4.5     30-39   \n",
      "3    David   40   80000         HR 2018-09-10          15     4.0     40-49   \n",
      "4      Eve   45   90000         IT 2022-02-28           2     4.7     40-49   \n",
      "\n",
      "   Bonus  \n",
      "0   2000  \n",
      "1   3000  \n",
      "2   2500  \n",
      "3   3500  \n",
      "4   4000  \n"
     ]
    }
   ],
   "source": [
    "#Question 5: Combining Data from Multiple Tables\n",
    "#Let's create another DataFrame with bonus information and merge it with the original DataFrame:\n",
    "\n",
    "bonus_info = {\n",
    "    'Name': ['Alice', 'Bob', 'Charlie', 'David', 'Eve'],\n",
    "    'Bonus': [2000, 3000, 2500, 3500, 4000]\n",
    "}\n",
    "\n",
    "bonus_df = pd.DataFrame(bonus_info)\n",
    "merge_df = pd.merge(df, bonus_df, on='Name')\n",
    "print(merge_df)\n"
   ]
  },
  {
   "cell_type": "code",
   "execution_count": 8,
   "metadata": {},
   "outputs": [
    {
     "name": "stdout",
     "output_type": "stream",
     "text": [
      "      Name  Age  Salary Department Start_Date  Experience  Rating Age_Group  \\\n",
      "0    Alice   25   50000         HR 2020-01-01           5     4.2       <30   \n",
      "1      Bob   30   60000        IT\" 2019-03-15          10     3.8     30-39   \n",
      "2  Charlie   35   70000    Finance 2021-05-20           3     4.5     30-39   \n",
      "3    David   40   80000         HR 2018-09-10          15     4.0     40-49   \n",
      "4      Eve   45   90000         IT 2022-02-28           2     4.7     40-49   \n",
      "\n",
      "   Name_Length  \n",
      "0            5  \n",
      "1            3  \n",
      "2            7  \n",
      "3            5  \n",
      "4            3  \n"
     ]
    }
   ],
   "source": [
    "#Question 6: Manipulating Textual Data\n",
    "#let's create a new column based on the length of the employee's name\n",
    "\n",
    "df['Name_Length'] = df['Name'].str.len()\n",
    "print(df)\n"
   ]
  },
  {
   "cell_type": "code",
   "execution_count": 9,
   "metadata": {},
   "outputs": [
    {
     "name": "stdout",
     "output_type": "stream",
     "text": [
      "  Name  Age  Salary Department Start_Date  Experience  Rating Age_Group  \\\n",
      "4  Eve   45   90000         IT 2022-02-28           2     4.7     40-49   \n",
      "\n",
      "   Name_Length  \n",
      "4            3  \n"
     ]
    }
   ],
   "source": [
    "#Question 7: Filtering Data Based on Multiple Conditions\n",
    "#let's filter the DataFrame to include only employees from the IT department who are olde than 30:\n",
    "\n",
    "filter_df = df[(df['Department'] == 'IT') & (df['Age'] > 30)]\n",
    "print(filter_df)"
   ]
  },
  {
   "cell_type": "code",
   "execution_count": 10,
   "metadata": {},
   "outputs": [
    {
     "name": "stdout",
     "output_type": "stream",
     "text": [
      "             Salary  Experience\n",
      "Department                     \n",
      "Finance     70000.0         3.0\n",
      "HR          65000.0        10.0\n",
      "IT          90000.0         2.0\n",
      "IT\"         60000.0        10.0\n"
     ]
    }
   ],
   "source": [
    "#Question 9: Calculating Group-Wise Summary Statistics\n",
    "#Let's calculate the mean salary and experience for each department:\n",
    "\n",
    "group_stats = df.groupby('Department').agg({'Salary': 'mean', 'Experience': 'mean'})\n",
    "print(group_stats)\n"
   ]
  },
  {
   "cell_type": "code",
   "execution_count": 11,
   "metadata": {},
   "outputs": [
    {
     "name": "stdout",
     "output_type": "stream",
     "text": [
      "      Name  Age  Salary Department Start_Date  Experience  Rating Age_Group  \\\n",
      "0    Alice   25   50000         HR 2020-01-01           5     4.2       <30   \n",
      "1      Bob   30   60000        IT\" 2019-03-15          10     3.8     30-39   \n",
      "2  Charlie   35   70000    Finance 2021-05-20           3     4.5     30-39   \n",
      "3    David   40   80000         HR 2018-09-10          15     4.0     40-49   \n",
      "4      Eve   45   90000         IT 2022-02-28           2     4.7     40-49   \n",
      "\n",
      "   Name_Length  \n",
      "0            5  \n",
      "1            3  \n",
      "2            7  \n",
      "3            5  \n",
      "4            3  \n"
     ]
    }
   ],
   "source": [
    "#Question 10: Sorting Data\n",
    "#Let's sort the DataFrame by age in descending order:\n",
    "\n",
    "sort_df = df.sort_values(by='Age')\n",
    "print(sort_df)"
   ]
  }
 ],
 "metadata": {
  "kernelspec": {
   "display_name": "venv",
   "language": "python",
   "name": "python3"
  },
  "language_info": {
   "codemirror_mode": {
    "name": "ipython",
    "version": 3
   },
   "file_extension": ".py",
   "mimetype": "text/x-python",
   "name": "python",
   "nbconvert_exporter": "python",
   "pygments_lexer": "ipython3",
   "version": "3.11.4"
  }
 },
 "nbformat": 4,
 "nbformat_minor": 2
}
